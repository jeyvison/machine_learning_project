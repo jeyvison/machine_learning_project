{
 "cells": [
  {
   "cell_type": "markdown",
   "metadata": {},
   "source": [
    "# Machine Learning Capstone Project\n",
    "\n",
    "Fist we have to import the dependecies needed for the project as specified by the [README](https://github.com/jeyvison/machine_learning_project/blob/master/README.md) file"
   ]
  },
  {
   "cell_type": "code",
   "execution_count": 1,
   "metadata": {
    "collapsed": false
   },
   "outputs": [
    {
     "name": "stdout",
     "output_type": "stream",
     "text": [
      "Dependencies succefully imported\n"
     ]
    }
   ],
   "source": [
    "import matplotlib.pyplot as plt\n",
    "import seaborn as sns\n",
    "import pandas as pd\n",
    "import numpy as np\n",
    "from sklearn.svm import SVC\n",
    "from sklearn.model_selection import StratifiedKFold\n",
    "from IPython.display import display \n",
    "from sklearn.decomposition import PCA\n",
    "from sklearn.feature_selection import RFECV\n",
    "import visuals as vs\n",
    "from sklearn.metrics import f1_score\n",
    "\n",
    "# Pretty display for notebooks\n",
    "%matplotlib inline\n",
    "\n",
    "print 'Dependencies succefully imported'"
   ]
  },
  {
   "cell_type": "code",
   "execution_count": 77,
   "metadata": {
    "collapsed": false
   },
   "outputs": [
    {
     "name": "stdout",
     "output_type": "stream",
     "text": [
      "Dataset succefully loaded. 569 points and 30 features\n"
     ]
    }
   ],
   "source": [
    "#Loading the trainning data\n",
    "data = pd.read_csv('data.csv')\n",
    "\n",
    "#Removing unnecessary id column\n",
    "data.drop(['id','Unnamed: 32'],1,inplace=True)\n",
    "\n",
    "X = data.drop('diagnosis',1)\n",
    "y = data.drop(X,1)\n",
    "\n",
    "print 'Dataset succefully loaded. {0} points and {1} features'.format(*X.shape)"
   ]
  },
  {
   "cell_type": "markdown",
   "metadata": {},
   "source": [
    "Since we are in a high dimensional feature space we must check which features have more importance on this dataset so we can performe a feature reduction."
   ]
  },
  {
   "cell_type": "code",
   "execution_count": 78,
   "metadata": {
    "collapsed": false
   },
   "outputs": [
    {
     "name": "stderr",
     "output_type": "stream",
     "text": [
      "/home/jeyvison/anaconda2/lib/python2.7/site-packages/ipykernel/__main__.py:2: RuntimeWarning: divide by zero encountered in log\n",
      "  from ipykernel import kernelapp as app\n"
     ]
    },
    {
     "data": {
      "text/html": [
       "<div>\n",
       "<table border=\"1\" class=\"dataframe\">\n",
       "  <thead>\n",
       "    <tr style=\"text-align: right;\">\n",
       "      <th></th>\n",
       "      <th>radius_mean</th>\n",
       "      <th>texture_mean</th>\n",
       "      <th>perimeter_mean</th>\n",
       "      <th>area_mean</th>\n",
       "      <th>smoothness_mean</th>\n",
       "      <th>compactness_mean</th>\n",
       "      <th>concavity_mean</th>\n",
       "      <th>concave points_mean</th>\n",
       "      <th>symmetry_mean</th>\n",
       "      <th>fractal_dimension_mean</th>\n",
       "      <th>...</th>\n",
       "      <th>radius_worst</th>\n",
       "      <th>texture_worst</th>\n",
       "      <th>perimeter_worst</th>\n",
       "      <th>area_worst</th>\n",
       "      <th>smoothness_worst</th>\n",
       "      <th>compactness_worst</th>\n",
       "      <th>concavity_worst</th>\n",
       "      <th>concave points_worst</th>\n",
       "      <th>symmetry_worst</th>\n",
       "      <th>fractal_dimension_worst</th>\n",
       "    </tr>\n",
       "  </thead>\n",
       "  <tbody>\n",
       "    <tr>\n",
       "      <th>count</th>\n",
       "      <td>569.000000</td>\n",
       "      <td>569.000000</td>\n",
       "      <td>569.000000</td>\n",
       "      <td>569.000000</td>\n",
       "      <td>569.000000</td>\n",
       "      <td>569.000000</td>\n",
       "      <td>569.000000</td>\n",
       "      <td>569.000000</td>\n",
       "      <td>569.000000</td>\n",
       "      <td>569.000000</td>\n",
       "      <td>...</td>\n",
       "      <td>569.000000</td>\n",
       "      <td>569.000000</td>\n",
       "      <td>569.000000</td>\n",
       "      <td>569.000000</td>\n",
       "      <td>569.000000</td>\n",
       "      <td>569.000000</td>\n",
       "      <td>569.000000</td>\n",
       "      <td>569.000000</td>\n",
       "      <td>569.000000</td>\n",
       "      <td>569.000000</td>\n",
       "    </tr>\n",
       "    <tr>\n",
       "      <th>mean</th>\n",
       "      <td>2.619131</td>\n",
       "      <td>2.935269</td>\n",
       "      <td>4.489174</td>\n",
       "      <td>6.363185</td>\n",
       "      <td>-2.350210</td>\n",
       "      <td>-2.380518</td>\n",
       "      <td>-2.777267</td>\n",
       "      <td>-3.237934</td>\n",
       "      <td>-1.719430</td>\n",
       "      <td>-2.773718</td>\n",
       "      <td>...</td>\n",
       "      <td>2.749578</td>\n",
       "      <td>3.217009</td>\n",
       "      <td>4.631289</td>\n",
       "      <td>6.615811</td>\n",
       "      <td>-2.037005</td>\n",
       "      <td>-1.550372</td>\n",
       "      <td>-1.592779</td>\n",
       "      <td>-2.266666</td>\n",
       "      <td>-1.258202</td>\n",
       "      <td>-2.497773</td>\n",
       "    </tr>\n",
       "    <tr>\n",
       "      <th>std</th>\n",
       "      <td>0.238189</td>\n",
       "      <td>0.220789</td>\n",
       "      <td>0.251084</td>\n",
       "      <td>0.483139</td>\n",
       "      <td>0.145572</td>\n",
       "      <td>0.494459</td>\n",
       "      <td>1.145741</td>\n",
       "      <td>0.981372</td>\n",
       "      <td>0.148229</td>\n",
       "      <td>0.106867</td>\n",
       "      <td>...</td>\n",
       "      <td>0.276438</td>\n",
       "      <td>0.240730</td>\n",
       "      <td>0.290892</td>\n",
       "      <td>0.554917</td>\n",
       "      <td>0.173086</td>\n",
       "      <td>0.617256</td>\n",
       "      <td>1.001406</td>\n",
       "      <td>0.723568</td>\n",
       "      <td>0.200010</td>\n",
       "      <td>0.195784</td>\n",
       "    </tr>\n",
       "    <tr>\n",
       "      <th>min</th>\n",
       "      <td>1.943192</td>\n",
       "      <td>2.273156</td>\n",
       "      <td>3.779405</td>\n",
       "      <td>4.966335</td>\n",
       "      <td>-2.944469</td>\n",
       "      <td>-3.943514</td>\n",
       "      <td>-7.275925</td>\n",
       "      <td>-6.291489</td>\n",
       "      <td>-2.244316</td>\n",
       "      <td>-2.996533</td>\n",
       "      <td>...</td>\n",
       "      <td>2.070653</td>\n",
       "      <td>2.486572</td>\n",
       "      <td>3.920190</td>\n",
       "      <td>5.221436</td>\n",
       "      <td>-2.642684</td>\n",
       "      <td>-3.601235</td>\n",
       "      <td>-6.295276</td>\n",
       "      <td>-4.736190</td>\n",
       "      <td>-1.854699</td>\n",
       "      <td>-2.899695</td>\n",
       "    </tr>\n",
       "    <tr>\n",
       "      <th>25%</th>\n",
       "      <td>2.459589</td>\n",
       "      <td>2.783158</td>\n",
       "      <td>4.319752</td>\n",
       "      <td>6.040969</td>\n",
       "      <td>-2.449115</td>\n",
       "      <td>-2.734600</td>\n",
       "      <td>-3.462222</td>\n",
       "      <td>-3.859905</td>\n",
       "      <td>-1.820776</td>\n",
       "      <td>-2.852498</td>\n",
       "      <td>...</td>\n",
       "      <td>2.565718</td>\n",
       "      <td>3.048325</td>\n",
       "      <td>4.432125</td>\n",
       "      <td>6.244749</td>\n",
       "      <td>-2.149006</td>\n",
       "      <td>-1.915963</td>\n",
       "      <td>-2.085862</td>\n",
       "      <td>-2.703660</td>\n",
       "      <td>-1.384696</td>\n",
       "      <td>-2.638617</td>\n",
       "    </tr>\n",
       "    <tr>\n",
       "      <th>50%</th>\n",
       "      <td>2.593013</td>\n",
       "      <td>2.935982</td>\n",
       "      <td>4.457134</td>\n",
       "      <td>6.311916</td>\n",
       "      <td>-2.344762</td>\n",
       "      <td>-2.379142</td>\n",
       "      <td>-2.708450</td>\n",
       "      <td>-3.296837</td>\n",
       "      <td>-1.719253</td>\n",
       "      <td>-2.788068</td>\n",
       "      <td>...</td>\n",
       "      <td>2.706048</td>\n",
       "      <td>3.235143</td>\n",
       "      <td>4.581492</td>\n",
       "      <td>6.531606</td>\n",
       "      <td>-2.030270</td>\n",
       "      <td>-1.551641</td>\n",
       "      <td>-1.421714</td>\n",
       "      <td>-2.256656</td>\n",
       "      <td>-1.265139</td>\n",
       "      <td>-2.525229</td>\n",
       "    </tr>\n",
       "    <tr>\n",
       "      <th>75%</th>\n",
       "      <td>2.758743</td>\n",
       "      <td>3.081910</td>\n",
       "      <td>4.645352</td>\n",
       "      <td>6.662749</td>\n",
       "      <td>-2.250942</td>\n",
       "      <td>-2.037149</td>\n",
       "      <td>-1.976885</td>\n",
       "      <td>-2.543765</td>\n",
       "      <td>-1.631172</td>\n",
       "      <td>-2.716284</td>\n",
       "      <td>...</td>\n",
       "      <td>2.933325</td>\n",
       "      <td>3.391820</td>\n",
       "      <td>4.831509</td>\n",
       "      <td>6.988413</td>\n",
       "      <td>-1.924149</td>\n",
       "      <td>-1.081460</td>\n",
       "      <td>-0.922309</td>\n",
       "      <td>-1.767262</td>\n",
       "      <td>-1.146018</td>\n",
       "      <td>-2.385098</td>\n",
       "    </tr>\n",
       "    <tr>\n",
       "      <th>max</th>\n",
       "      <td>3.336125</td>\n",
       "      <td>3.670715</td>\n",
       "      <td>5.239098</td>\n",
       "      <td>7.824446</td>\n",
       "      <td>-1.811554</td>\n",
       "      <td>-1.063052</td>\n",
       "      <td>0.000000</td>\n",
       "      <td>0.000000</td>\n",
       "      <td>-1.190728</td>\n",
       "      <td>-2.328518</td>\n",
       "      <td>...</td>\n",
       "      <td>3.584629</td>\n",
       "      <td>3.902780</td>\n",
       "      <td>5.526249</td>\n",
       "      <td>8.355615</td>\n",
       "      <td>-1.502379</td>\n",
       "      <td>0.056380</td>\n",
       "      <td>0.224742</td>\n",
       "      <td>0.000000</td>\n",
       "      <td>-0.409774</td>\n",
       "      <td>-1.572624</td>\n",
       "    </tr>\n",
       "  </tbody>\n",
       "</table>\n",
       "<p>8 rows × 30 columns</p>\n",
       "</div>"
      ],
      "text/plain": [
       "       radius_mean  texture_mean  perimeter_mean   area_mean  smoothness_mean  \\\n",
       "count   569.000000    569.000000      569.000000  569.000000       569.000000   \n",
       "mean      2.619131      2.935269        4.489174    6.363185        -2.350210   \n",
       "std       0.238189      0.220789        0.251084    0.483139         0.145572   \n",
       "min       1.943192      2.273156        3.779405    4.966335        -2.944469   \n",
       "25%       2.459589      2.783158        4.319752    6.040969        -2.449115   \n",
       "50%       2.593013      2.935982        4.457134    6.311916        -2.344762   \n",
       "75%       2.758743      3.081910        4.645352    6.662749        -2.250942   \n",
       "max       3.336125      3.670715        5.239098    7.824446        -1.811554   \n",
       "\n",
       "       compactness_mean  concavity_mean  concave points_mean  symmetry_mean  \\\n",
       "count        569.000000      569.000000           569.000000     569.000000   \n",
       "mean          -2.380518       -2.777267            -3.237934      -1.719430   \n",
       "std            0.494459        1.145741             0.981372       0.148229   \n",
       "min           -3.943514       -7.275925            -6.291489      -2.244316   \n",
       "25%           -2.734600       -3.462222            -3.859905      -1.820776   \n",
       "50%           -2.379142       -2.708450            -3.296837      -1.719253   \n",
       "75%           -2.037149       -1.976885            -2.543765      -1.631172   \n",
       "max           -1.063052        0.000000             0.000000      -1.190728   \n",
       "\n",
       "       fractal_dimension_mean           ...             radius_worst  \\\n",
       "count              569.000000           ...               569.000000   \n",
       "mean                -2.773718           ...                 2.749578   \n",
       "std                  0.106867           ...                 0.276438   \n",
       "min                 -2.996533           ...                 2.070653   \n",
       "25%                 -2.852498           ...                 2.565718   \n",
       "50%                 -2.788068           ...                 2.706048   \n",
       "75%                 -2.716284           ...                 2.933325   \n",
       "max                 -2.328518           ...                 3.584629   \n",
       "\n",
       "       texture_worst  perimeter_worst  area_worst  smoothness_worst  \\\n",
       "count     569.000000       569.000000  569.000000        569.000000   \n",
       "mean        3.217009         4.631289    6.615811         -2.037005   \n",
       "std         0.240730         0.290892    0.554917          0.173086   \n",
       "min         2.486572         3.920190    5.221436         -2.642684   \n",
       "25%         3.048325         4.432125    6.244749         -2.149006   \n",
       "50%         3.235143         4.581492    6.531606         -2.030270   \n",
       "75%         3.391820         4.831509    6.988413         -1.924149   \n",
       "max         3.902780         5.526249    8.355615         -1.502379   \n",
       "\n",
       "       compactness_worst  concavity_worst  concave points_worst  \\\n",
       "count         569.000000       569.000000            569.000000   \n",
       "mean           -1.550372        -1.592779             -2.266666   \n",
       "std             0.617256         1.001406              0.723568   \n",
       "min            -3.601235        -6.295276             -4.736190   \n",
       "25%            -1.915963        -2.085862             -2.703660   \n",
       "50%            -1.551641        -1.421714             -2.256656   \n",
       "75%            -1.081460        -0.922309             -1.767262   \n",
       "max             0.056380         0.224742              0.000000   \n",
       "\n",
       "       symmetry_worst  fractal_dimension_worst  \n",
       "count      569.000000               569.000000  \n",
       "mean        -1.258202                -2.497773  \n",
       "std          0.200010                 0.195784  \n",
       "min         -1.854699                -2.899695  \n",
       "25%         -1.384696                -2.638617  \n",
       "50%         -1.265139                -2.525229  \n",
       "75%         -1.146018                -2.385098  \n",
       "max         -0.409774                -1.572624  \n",
       "\n",
       "[8 rows x 30 columns]"
      ]
     },
     "metadata": {},
     "output_type": "display_data"
    }
   ],
   "source": [
    "#First, we scale the dataset with the log function\n",
    "X = np.log(X)\n",
    "\n",
    "#We had some 0 values in our dataset that were turned to 'inf'\n",
    "#Now we have to change it back\n",
    "X[np.isinf(X)] = 0.0\n",
    "\n",
    "display(X.describe())"
   ]
  },
  {
   "cell_type": "markdown",
   "metadata": {
    "collapsed": true
   },
   "source": [
    "Now that we scaled the data lets analyze it"
   ]
  },
  {
   "cell_type": "code",
   "execution_count": 79,
   "metadata": {
    "collapsed": false
   },
   "outputs": [
    {
     "name": "stdout",
     "output_type": "stream",
     "text": [
      "Features selected\n"
     ]
    }
   ],
   "source": [
    "svc = SVC(kernel=\"linear\",random_state=52)\n",
    "\n",
    "stratifiedKFold = StratifiedKFold(n_splits=10,shuffle=True,random_state=30)\n",
    "\n",
    "rfecv = RFECV(estimator=svc, step=1, cv=stratifiedKFold,\n",
    "              scoring='accuracy',verbose=False)\n",
    "\n",
    "new_X = rfecv.fit_transform(X,y)\n",
    "\n",
    "print 'Features selected'"
   ]
  },
  {
   "cell_type": "markdown",
   "metadata": {
    "collapsed": true
   },
   "source": [
    "Now that we have"
   ]
  },
  {
   "cell_type": "code",
   "execution_count": 80,
   "metadata": {
    "collapsed": false
   },
   "outputs": [
    {
     "name": "stdout",
     "output_type": "stream",
     "text": [
      "Optimal number of features : 30\n"
     ]
    },
    {
     "data": {
      "image/png": "[encoded data removed]",
      "text/plain": [
       "<matplotlib.figure.Figure at 0x7f9f037b20d0>"
      ]
     },
     "metadata": {},
     "output_type": "display_data"
    },
    {
     "name": "stdout",
     "output_type": "stream",
     "text": [
      "Max score found:0.978852303172\n"
     ]
    }
   ],
   "source": [
    "print(\"Optimal number of features : %d\" % rfecv.n_features_)\n",
    "\n",
    "# Plot number of features VS. cross-validation scores\n",
    "plt.figure()\n",
    "plt.xlabel(\"Number of features selected\")\n",
    "plt.ylabel(\"Cross validation score (nb of correct classifications)\")\n",
    "plt.plot(range(1, len(rfecv.grid_scores_) + 1), rfecv.grid_scores_)\n",
    "plt.show()\n",
    "\n",
    "print 'Max score found:' +  str(max(rfecv.grid_scores_))\n"
   ]
  },
  {
   "cell_type": "markdown",
   "metadata": {
    "collapsed": true
   },
   "source": [
    "Now we reduced our data we must find the best score for the possible component numbers."
   ]
  },
  {
   "cell_type": "code",
   "execution_count": 90,
   "metadata": {
    "collapsed": false
   },
   "outputs": [
    {
     "data": {
      "text/plain": [
       "0.98242530755711777"
      ]
     },
     "execution_count": 90,
     "metadata": {},
     "output_type": "execute_result"
    }
   ],
   "source": [
    "#We have to reshape y so we can use StratifiedKFold\n",
    "c,r = y.values.shape\n",
    "new_y = y.values.reshape(c,)\n",
    "\n",
    "for train_index,test_index in stratifiedKFold.split(new_X, new_y):\n",
    "    X_train, X_test = new_X[train_index], new_X[test_index]\n",
    "    y_train, y_test = new_y[train_index], new_y[test_index]    \n",
    "    \n",
    "    svc.fit(X_train,y_train)\n",
    "\n",
    "\n",
    "\n",
    "\n"
   ]
  },
  {
   "cell_type": "code",
   "execution_count": null,
   "metadata": {
    "collapsed": true
   },
   "outputs": [],
   "source": []
  }
 ],
 "metadata": {
  "anaconda-cloud": {},
  "kernelspec": {
   "display_name": "Python [conda root]",
   "language": "python",
   "name": "conda-root-py"
  },
  "language_info": {
   "codemirror_mode": {
    "name": "ipython",
    "version": 2
   },
   "file_extension": ".py",
   "mimetype": "text/x-python",
   "name": "python",
   "nbconvert_exporter": "python",
   "pygments_lexer": "ipython2",
   "version": "2.7.12"
  }
 },
 "nbformat": 4,
 "nbformat_minor": 1
}
